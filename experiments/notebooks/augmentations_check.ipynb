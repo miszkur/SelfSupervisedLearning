{
 "cells": [
  {
   "cell_type": "code",
   "execution_count": null,
   "metadata": {},
   "outputs": [],
   "source": [
    "import importlib\n",
    "importlib.reload(augm)\n",
    "import numpy as np\n",
    "\n",
    "\n",
    "ds, _ = get_cifar10(batch_size=5, split='train')\n",
    "layer = augm.DataAugSmall(batch_size=5)\n",
    "\n",
    "for x in ds.take(1):\n",
    "    # print(datapoint['image'])\n",
    "    aug = layer.augment(x)\n",
    "    # aug = tf.repeat(tf.image.rgb_to_grayscale(aug), 3, axis=-1)\n",
    "    plt.figure()\n",
    "    plt.imshow(x[0])\n",
    "    plt.figure()\n",
    "    plt.imshow((aug[0].numpy()))\n",
    "\n"
   ]
  },
  {
   "cell_type": "code",
   "execution_count": null,
   "metadata": {},
   "outputs": [],
   "source": [
    "a = tf.constant([[12,2],[4,4]])\n",
    "tf.linalg.diag(a)\n",
    "# tf.clip_by_value(a, clip_value_min=3, clip_value_max=tf.math.reduce_max(a))\n",
    "import numpy as np\n",
    "x = np.array([3, 1, 2]) \n",
    "print(np.argsort(x,order=))\n",
    "y = np.array([1, 2, 3])\n",
    "\n",
    "\n",
    "np.take_along_axis(y, np.argsort(x), axis=-1)\n",
    "\n",
    "def take_sorted(to_sort, sort_by):\n",
    "    return np.take_along_axis(\n",
    "        to_sort.to_numpy(), \n",
    "        np.argsort(sort_by.to_numpy()), axis=-1)\n"
   ]
  }
 ],
 "metadata": {
  "interpreter": {
   "hash": "b95296a527a698334e08c33ad27f38adda0cc9d7ac330df83bf5727d27d5b2d0"
  },
  "kernelspec": {
   "display_name": "new_ml_stuff:pyenv",
   "name": "python3"
  },
  "language_info": {
   "codemirror_mode": {
    "name": "ipython",
    "version": 3
   },
   "file_extension": ".py",
   "mimetype": "text/x-python",
   "name": "python",
   "nbconvert_exporter": "python",
   "pygments_lexer": "ipython3",
   "version": "3.8.5"
  },
  "orig_nbformat": 4
 },
 "nbformat": 4,
 "nbformat_minor": 2
}
